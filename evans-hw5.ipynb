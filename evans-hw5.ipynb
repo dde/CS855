{
 "cells": [
  {
   "cell_type": "markdown",
   "metadata": {
    "collapsed": true
   },
   "source": [
    "# CS 855 HW 5\n",
    "## Dan Evans"
   ]
  },
  {
   "cell_type": "markdown",
   "metadata": {},
   "source": [
    "Import Python libraries and set up the initial red and blue points, samples, initial weights, and plotting control switch. "
   ]
  },
  {
   "cell_type": "code",
   "execution_count": 21,
   "metadata": {
    "scrolled": true
   },
   "outputs": [],
   "source": [
    "import numpy as np\n",
    "import matplotlib.pyplot as plt\n",
    "\n",
    "r1 = [0, 0]\n",
    "r2 = [1, 0]\n",
    "r3 = [0, 1]\n",
    "b1 = [1, 1]\n",
    "\n",
    "y1 = [1, 0, 0]\n",
    "y2 = [1, 0, 1]\n",
    "y3 = [1, 1, 0]\n",
    "y4 = [1, 1, 1]\n",
    "a0 = [-2, 0, 1]\n",
    "do_plot = True\n",
    "\n",
    "labels = [-1, -1, -1, 1]\n",
    "samples = np.array([y1, y2, y3, y4])\n",
    "weight = np.array(a0)"
   ]
  },
  {
   "cell_type": "markdown",
   "metadata": {},
   "source": [
    "The line_factory function returns a line potting function generated from a weight vector.  The plot_split function plots the points and the half-plane divider."
   ]
  },
  {
   "cell_type": "code",
   "execution_count": 22,
   "metadata": {
    "scrolled": true
   },
   "outputs": [],
   "source": [
    "def line_factory(_w):\n",
    "    \"\"\"return a function which will draw the half-plane division line 0 = bias + w1*x1 + w2*x2\n",
    "    from the input weight vector [b, w1, w2]\"\"\"\n",
    "    if 0 == _w[2]:\n",
    "        raise Exception('coefficient of x2 cannot be 0')\n",
    "    def _f(_x):\n",
    "        return (-_w[0] - _w[1] * _x) / _w[2]\n",
    "    return _f\n",
    "\n",
    "\n",
    "def plot_split(_w, _f):\n",
    "    \"\"\"plot the points and the half-plane line if do_plot is True\"\"\"\n",
    "    if not do_plot:\n",
    "        return\n",
    "    fig, ax = plt.subplots(1, 1)\n",
    "    for xi, yi in [r1, r2, r3]:\n",
    "        ax.plot(xi, yi, marker='o', color='red')\n",
    "    for xi, yi in [b1]:\n",
    "        ax.plot(xi, yi, marker='o', color='blue')\n",
    "    ax.axis([-1, 2, -0.5, 2.5])\n",
    "    ax.plot([-1, 2], [_f(-1), _f(2)])\n",
    "    plt.show()\n",
    "    "
   ]
  },
  {
   "cell_type": "markdown",
   "metadata": {},
   "source": [
    "The epoch function will perform one iteration over all the samples, possibly modifying the weight vector several times, and return the modified weight vector, and a flag indicating the need for another iteration."
   ]
  },
  {
   "cell_type": "code",
   "execution_count": 23,
   "metadata": {
    "scrolled": true
   },
   "outputs": [],
   "source": [
    "def epoch(_y, _w, _l):\n",
    "    \"\"\"\n",
    "    :param _y: the n augmented samples\n",
    "    :param _w: the initial weight vector\n",
    "    :param _l: the n sample labels; -1 a negative sample, +1 a positive sample\n",
    "    :return: a tuple (new weight vector, weight vector modified flag)\n",
    "    \"\"\"\n",
    "    _n = _y.shape[0]  # the number of samples\n",
    "    _e = False\n",
    "    for _k in range(_n):\n",
    "        _v = np.sum(_y[_k] * _w)\n",
    "        if _l[_k] > 0 and _v <= 0:  # positive class error\n",
    "            _w += _y[_k]\n",
    "            _e = True\n",
    "            print('positive class error: sample: {}, dot-product: {}, new weights: {}'.format(_y[_k], _v, _w))\n",
    "            plot_split(_w, line_factory(_w))\n",
    "        elif _l[_k] < 0 and _v > 0:  # negative class error\n",
    "            _w -= _y[_k]\n",
    "            _e = True\n",
    "            print('negative class error: sample: {}, dot-product: {}, new weights: {}'.format(_y[_k], _v, _w))\n",
    "            plot_split(_w, line_factory(_w))\n",
    "        else:\n",
    "            print('correct, label: {} sample: {}, dot-product: {}'.format(_l[_k], _y[_k], _v))\n",
    "    return (_w, _e)\n"
   ]
  },
  {
   "cell_type": "markdown",
   "metadata": {},
   "source": [
    "Plot the initial weight vector, then run an epoch and plot result.  If the again flag is true, another epoch needs to be run."
   ]
  },
  {
   "cell_type": "code",
   "execution_count": 24,
   "metadata": {
    "scrolled": false
   },
   "outputs": [
    {
     "data": {
      "image/png": "[encoded data removed]",
      "text/plain": [
       "<matplotlib.figure.Figure at 0x1120187f0>"
      ]
     },
     "metadata": {},
     "output_type": "display_data"
    },
    {
     "name": "stdout",
     "output_type": "stream",
     "text": [
      "correct, label: -1 sample: [1 0 0], dot-product: -2\n",
      "correct, label: -1 sample: [1 0 1], dot-product: -1\n",
      "correct, label: -1 sample: [1 1 0], dot-product: -2\n",
      "positive class error: sample: [1 1 1], dot-product: -1, new weights: [-1  1  2]\n"
     ]
    },
    {
     "data": {
      "image/png": "[encoded data removed]",
      "text/plain": [
       "<matplotlib.figure.Figure at 0x1120fa908>"
      ]
     },
     "metadata": {},
     "output_type": "display_data"
    },
    {
     "name": "stdout",
     "output_type": "stream",
     "text": [
      "run another epoch: {} True\n"
     ]
    }
   ],
   "source": [
    "# do_plot = False\n",
    "plot_split(weight, line_factory(weight))\n",
    "(wv, again) = epoch(samples, weight, labels)\n",
    "print('run another epoch: {}', again)"
   ]
  },
  {
   "cell_type": "code",
   "execution_count": 25,
   "metadata": {
    "scrolled": false
   },
   "outputs": [
    {
     "name": "stdout",
     "output_type": "stream",
     "text": [
      "correct, label: -1 sample: [1 0 0], dot-product: -1\n",
      "negative class error: sample: [1 0 1], dot-product: 1, new weights: [-2  1  1]\n"
     ]
    },
    {
     "data": {
      "image/png": "[encoded data removed]",
      "text/plain": [
       "<matplotlib.figure.Figure at 0x111fcb080>"
      ]
     },
     "metadata": {},
     "output_type": "display_data"
    },
    {
     "name": "stdout",
     "output_type": "stream",
     "text": [
      "correct, label: -1 sample: [1 1 0], dot-product: -1\n",
      "positive class error: sample: [1 1 1], dot-product: 0, new weights: [-1  2  2]\n"
     ]
    },
    {
     "data": {
      "image/png": "[encoded data removed]",
      "text/plain": [
       "<matplotlib.figure.Figure at 0x1122aa4e0>"
      ]
     },
     "metadata": {},
     "output_type": "display_data"
    },
    {
     "name": "stdout",
     "output_type": "stream",
     "text": [
      "run another epoch: {} True\n"
     ]
    }
   ],
   "source": [
    "(wv, again) = epoch(samples, wv, labels)\n",
    "print('run another epoch: {}', again)"
   ]
  },
  {
   "cell_type": "code",
   "execution_count": 26,
   "metadata": {
    "scrolled": false
   },
   "outputs": [
    {
     "name": "stdout",
     "output_type": "stream",
     "text": [
      "correct, label: -1 sample: [1 0 0], dot-product: -1\n",
      "negative class error: sample: [1 0 1], dot-product: 1, new weights: [-2  2  1]\n"
     ]
    },
    {
     "data": {
      "image/png": "[encoded data removed]",
      "text/plain": [
       "<matplotlib.figure.Figure at 0x11231c4e0>"
      ]
     },
     "metadata": {},
     "output_type": "display_data"
    },
    {
     "name": "stdout",
     "output_type": "stream",
     "text": [
      "correct, label: -1 sample: [1 1 0], dot-product: 0\n",
      "correct, label: 1 sample: [1 1 1], dot-product: 1\n",
      "run another epoch: {} True\n"
     ]
    }
   ],
   "source": [
    "(wv, again) = epoch(samples, wv, labels)\n",
    "print('run another epoch: {}', again)"
   ]
  },
  {
   "cell_type": "code",
   "execution_count": 27,
   "metadata": {
    "scrolled": true
   },
   "outputs": [
    {
     "name": "stdout",
     "output_type": "stream",
     "text": [
      "correct, label: -1 sample: [1 0 0], dot-product: -2\n",
      "correct, label: -1 sample: [1 0 1], dot-product: -1\n",
      "correct, label: -1 sample: [1 1 0], dot-product: 0\n",
      "correct, label: 1 sample: [1 1 1], dot-product: 1\n",
      "run another epoch: {} False\n"
     ]
    }
   ],
   "source": [
    "(wv, again) = epoch(samples, wv, labels)\n",
    "print('run another epoch: {}', again)"
   ]
  },
  {
   "cell_type": "markdown",
   "metadata": {},
   "source": [
    "Go back and set do_plot to True or False to see or supress the plotting of the half-plane dividers."
   ]
  }
 ],
 "metadata": {
  "kernelspec": {
   "display_name": "Python 3",
   "language": "python",
   "name": "python3"
  },
  "language_info": {
   "codemirror_mode": {
    "name": "ipython",
    "version": 3
   },
   "file_extension": ".py",
   "mimetype": "text/x-python",
   "name": "python",
   "nbconvert_exporter": "python",
   "pygments_lexer": "ipython3",
   "version": "3.6.4"
  }
 },
 "nbformat": 4,
 "nbformat_minor": 1
}
