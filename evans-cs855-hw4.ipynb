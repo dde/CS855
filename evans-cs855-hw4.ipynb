{
 "cells": [
  {
   "cell_type": "markdown",
   "metadata": {},
   "source": [
    "# HW 4\n",
    "\n",
    "## Linear Regression\n",
    "\n",
    "Simple linear regression is a way to describe a relationship between two variables through an equation of a straight line, called line of best fit, that most closely models the relationship. The following linear regression formula provides the least-squares, best-fit equation for the line:\n",
    "\n",
    "$y=a+bx$ where $\\displaystyle b = \\frac{\\sum_{i=1}^{n}x_iy_i-n\\bar{x}\\bar{y}}{\\sum_{i=1}^{n}x_i^2-n\\bar{x}^2}$ and $a=\\bar{y}-b\\bar{x}$, and $\\bar{x}$ and $\\bar{y}$ are the means of the x and y coordinates."
   ]
  },
  {
   "cell_type": "code",
   "execution_count": 30,
   "metadata": {},
   "outputs": [],
   "source": [
    "import numpy as np\n",
    "\n",
    "def point_slope_factory(_ps):\n",
    "    \"\"\"return a function which compute y = mx + b, where m is the slope and b the y-intercept of a line\"\"\"\n",
    "    def _f(_x):\n",
    "        return _ps[1] + _ps[0] * _x\n",
    "    return _f\n",
    "\n",
    "def mean(_pts):\n",
    "    \"\"\"mean of n points (_pts is a 2-dimensional numpy.ndarray)\"\"\"\n",
    "    _n = _pts.shape[0]  # the number of points\n",
    "    _m = _pts[0].shape[0]  # the dimension of a point\n",
    "    _u = np.zeros((_m,), np.float64)  # initialize u to zeros\n",
    "    for _k in range(_n):\n",
    "        _u += _pts[_k]\n",
    "    _u /=_n  # divide by n\n",
    "    return _u\n",
    "\n",
    "def regression_line(_pts):\n",
    "    _n = _pts.shape[0]  # the number of points\n",
    "    _u = mean(_pts)  # the mean of each dimension\n",
    "    _x = _pts.T[0]  # all x-coordinates (T property is transpose)\n",
    "    _y = _pts.T[1]  # all y-coordinates\n",
    "    _nm = sum(_x * _y) - _n * _u[0] * _u[1]  # numerator\n",
    "    _dm = sum(_x * _x) - _n * _u[0] * _u[0]  # denominator\n",
    "    _b = _nm / _dm\n",
    "    _a = _u[1] - _b * _u[0]\n",
    "    return [_b, _a]  # slope and y_intercept of the least-squares regression line\n",
    "\n",
    "def covariance(_pts):\n",
    "    \"\"\"covariance of n points (_pts is a 2-dimensional numpy.ndarray) computed using the outer product algorithm\"\"\"\n",
    "    _n = _pts.shape[0]  # n is the number of m-dimensional points\n",
    "    _m = _pts[0].shape[0]  # the dimension of the points\n",
    "    _mu = mean(_pts)  # m-dimensional means\n",
    "    _cvm = np.zeros((_m, _m), np.float64)  # m by m matrix of zeros\n",
    "    for _k in range(_n):\n",
    "        _mm = _pts[_k] - _mu  # subtract the means from the point\n",
    "        _cvm += np.outer(_mm, _mm)  # accumulate the outer product of mm with itself\n",
    "    _cvm /= _n  # divide by n\n",
    "    return _cvm;      "
   ]
  },
  {
   "cell_type": "markdown",
   "metadata": {},
   "source": [
    "1) Compute the regression line slope and y-intercept."
   ]
  },
  {
   "cell_type": "code",
   "execution_count": 31,
   "metadata": {},
   "outputs": [
    {
     "name": "stdout",
     "output_type": "stream",
     "text": [
      "regression line slope=0.6, y-intercept=0.0\n"
     ]
    }
   ],
   "source": [
    "    \n",
    "# points\n",
    "pts = np.array([[2,2], [0,0], [-2,-2], [-1,1], [1,-1]])\n",
    "lp = regression_line(pts)\n",
    "print('regression line slope={}, y-intercept={}'.format(lp[0], lp[1]))\n"
   ]
  },
  {
   "cell_type": "markdown",
   "metadata": {},
   "source": [
    "2) Compute the least-squares error, which is simply the sum of the squares of the y-differences between each original point and the best-fit regression line."
   ]
  },
  {
   "cell_type": "code",
   "execution_count": 32,
   "metadata": {},
   "outputs": [
    {
     "name": "stdout",
     "output_type": "stream",
     "text": [
      "least squares error: 6.400000000000001\n"
     ]
    }
   ],
   "source": [
    "rgl = point_slope_factory(lp)\n",
    "x = pts.T[0]\n",
    "y = pts.T[1]\n",
    "ye = [(y[i] - rgl(x[i])) ** 2  for i in range(len(x))]\n",
    "print('least squares error: {}'. format(sum(ye)))"
   ]
  },
  {
   "cell_type": "markdown",
   "metadata": {},
   "source": [
    "3) Because some might think the best-fit regression line should have slope = 1 and go through the points (2,2) and (-2,-2), compute the least-squares error to this line to show that it is greater than the least- squares error obtained above."
   ]
  },
  {
   "cell_type": "code",
   "execution_count": 33,
   "metadata": {},
   "outputs": [
    {
     "name": "stdout",
     "output_type": "stream",
     "text": [
      "least squares error of 45-degree line: 8.0\n"
     ]
    }
   ],
   "source": [
    "sgl = point_slope_factory([1.0, 0.0])  # slope and y-intercept\n",
    "ye2 = [(y[i] - sgl(x[i])) ** 2  for i in range(len(x))]\n",
    "print('least squares error of 45-degree line: {}'. format(sum(ye2)))"
   ]
  },
  {
   "cell_type": "code",
   "execution_count": 35,
   "metadata": {},
   "outputs": [
    {
     "name": "stdout",
     "output_type": "stream",
     "text": [
      "covariance matrix: [[2.  1.2]\n",
      " [1.2 2. ]]\n"
     ]
    }
   ],
   "source": [
    "cvm = covariance(pts)\n",
    "print('covariance matrix: {}'. format(cvm))"
   ]
  },
  {
   "cell_type": "markdown",
   "metadata": {},
   "source": [
    "Eigenvalues of the covariance matrix. $\\det\\begin{pmatrix}2-\\lambda&1.2\\\\1.2&2-\\lambda\\end{pmatrix}=(2-\\lambda)(2-\\lambda)-1.2\\cdot 1.2=\\lambda^2-4\\lambda+2.56$.  The roots of this equation are $(3.2,0.8)$.  The largest eigenvalue is $3.2$.  The corresponding eigenvector is $$\\begin{pmatrix}2&1.2\\\\1.2&2\\end{pmatrix}\\begin{pmatrix}e_1\\\\e_2\\end{pmatrix}=3.2\\begin{pmatrix}e_1\\\\e_2\\end{pmatrix}$$\n",
    "$$\\begin{pmatrix}2e_1+1.2e_2\\\\1.2e_1+2e_2\\end{pmatrix}=\\begin{pmatrix}3.2e_1\\\\3.2e_2\\end{pmatrix}\\text{  solution: }e_1=e_2$$\n",
    "\n",
    "Therefore, the unit eigenvector is $(1,1)$. The PCA line is the line with the slope equal to the angle of the eigenvector, through the point $(\\bar{x},\\bar{y})$."
   ]
  },
  {
   "cell_type": "code",
   "execution_count": null,
   "metadata": {},
   "outputs": [],
   "source": []
  }
 ],
 "metadata": {
  "kernelspec": {
   "display_name": "Python 3",
   "language": "python",
   "name": "python3"
  },
  "language_info": {
   "codemirror_mode": {
    "name": "ipython",
    "version": 3
   },
   "file_extension": ".py",
   "mimetype": "text/x-python",
   "name": "python",
   "nbconvert_exporter": "python",
   "pygments_lexer": "ipython3",
   "version": "3.6.4"
  }
 },
 "nbformat": 4,
 "nbformat_minor": 2
}
