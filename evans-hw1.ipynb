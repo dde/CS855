{
 "cells": [
  {
   "cell_type": "markdown",
   "metadata": {
    "collapsed": true
   },
   "source": [
    "# HW1 - Covariance"
   ]
  },
  {
   "cell_type": "markdown",
   "metadata": {},
   "source": [
    "In the following formulas, $\\mathbf{x}_k$ is an m-dimensional point, or feature vector whose values have been quantized.  $\\mathbf{\\hat{u}}$ is an m-dimensional vector of the means of $\\mathbf{x}_k$ along each dimension. $\\oplus$ is the outer product."
   ]
  },
  {
   "cell_type": "markdown",
   "metadata": {},
   "source": [
    "Mean of n m-dimensional points:$$\\displaystyle \\mathbf{\\hat{u}} = \\frac{1}{n}\\sum_{k=1}^{n}\\mathbf{x}_k$$ Covariance matrix of n m-dimensional points: $$\\displaystyle \\hat{\\Sigma} = \\frac{1}{n}\\sum_{k=1}^{n}(\\mathbf{x}_k-\\hat{u}_k)\\oplus(\\mathbf{x}_k-\\hat{u}_k)^t$$"
   ]
  },
  {
   "cell_type": "markdown",
   "metadata": {},
   "source": [
    "To begin coding, import numpy.\n",
    "\n",
    "There are three groups of four points (2-dimensional feature vectors), represented by the variables red, green, and blue, each of which are an array of the points."
   ]
  },
  {
   "cell_type": "code",
   "execution_count": 1,
   "metadata": {},
   "outputs": [],
   "source": [
    "import numpy as np"
   ]
  },
  {
   "cell_type": "code",
   "execution_count": 2,
   "metadata": {},
   "outputs": [],
   "source": [
    "cluster = {'red': np.array([[1, 0], [0, 3], [-1, 0], [0, -3]]),\n",
    "           'green': np.array([[-9, 7], [-7, 9], [-9, 11], [-11, 9]]),\n",
    "           'blue': np.array([[11, 7], [14, 8], [11, 9], [8, 8]])}\n",
    "keys = ('red', 'blue', 'green')"
   ]
  },
  {
   "cell_type": "markdown",
   "metadata": {},
   "source": [
    "Define a function to compute the mean of all feature vectors along each feature dimension."
   ]
  },
  {
   "cell_type": "code",
   "execution_count": 3,
   "metadata": {},
   "outputs": [],
   "source": [
    "def mean(_pts):\n",
    "    \"\"\"mean of n points (_pts is a 2-dimensional numpy.ndarray)\"\"\"\n",
    "    _n = _pts.shape[0]  # the number of points\n",
    "    _m = _pts[0].shape[0]  # the dimension of a point\n",
    "    _u = np.zeros((_m,), np.float64)  # initialize u to zeros\n",
    "    for _k in range(_n):\n",
    "        _u += _pts[_k]\n",
    "    _u /=_n  # divide by n\n",
    "    return _u"
   ]
  },
  {
   "cell_type": "markdown",
   "metadata": {},
   "source": [
    "Define a function to compute the covariance matrix of n feature vectors."
   ]
  },
  {
   "cell_type": "code",
   "execution_count": 4,
   "metadata": {},
   "outputs": [],
   "source": [
    "def covariance(_pts):\n",
    "    \"\"\"covariance of n points (_pts is a 2-dimensional numpy.ndarray) computed using the outer product algorithm\"\"\"\n",
    "    _n = _pts.shape[0]  # n is the number of m-dimensional points\n",
    "    _m = _pts[0].shape[0]  # the dimension of the points\n",
    "    _mu = mean(_pts)  # m-dimensional means\n",
    "    _cvm = np.zeros((_m, _m), np.float64)  # m by m matrix of zeros\n",
    "    for _k in range(_n):\n",
    "        _mm = _pts[_k] - _mu  # subtract the means from the point\n",
    "        _cvm += np.outer(_mm, _mm)  # accumulate the outer product of mm with itself\n",
    "    _cvm /= _n  # divide by n\n",
    "    return _cvm;"
   ]
  },
  {
   "cell_type": "markdown",
   "metadata": {},
   "source": [
    "Compute and display the covariance matrices of each of the three sets of poits."
   ]
  },
  {
   "cell_type": "code",
   "execution_count": 5,
   "metadata": {},
   "outputs": [
    {
     "name": "stdout",
     "output_type": "stream",
     "text": [
      "red\n",
      "[[0.5 0. ]\n",
      " [0.  4.5]]\n",
      "blue\n",
      "[[4.5 0. ]\n",
      " [0.  0.5]]\n",
      "green\n",
      "[[2. 0.]\n",
      " [0. 2.]]\n"
     ]
    }
   ],
   "source": [
    "for key in keys:\n",
    "    cvm = covariance(cluster[key])\n",
    "    print(key)\n",
    "    print(cvm)"
   ]
  },
  {
   "cell_type": "markdown",
   "metadata": {},
   "source": [
    "## Eigenvalues and Eigenvectors"
   ]
  },
  {
   "cell_type": "markdown",
   "metadata": {},
   "source": [
    "### Red (1)\n",
    "\n",
    "The eigenvalues of a diagonal matrix are the diagonal elements. $\\lambda_1=0.5$, $\\lambda_2=4.5$.\n",
    "\n",
    "Eigenvector $\\phi_1$ for $\\lambda_1=0.5$, , $\\phi_1=\\begin{pmatrix}e_1\\\\e_2\\end{pmatrix}$ \n",
    "$\n",
    "\\begin{pmatrix}0.5 & 0.0 \\\\ 0.0 & 4.5\\end{pmatrix}\\begin{pmatrix}e_1 \\\\ e_2\\end{pmatrix}=0.5\\begin{pmatrix}e_1 \\\\ e_2\\end{pmatrix}\\text{, }\n",
    "\\begin{pmatrix}0.5e_1+0.0e_2 \\\\ 0.0e_1+4.5e_2\\end{pmatrix}=\\begin{pmatrix}0.5e_1 \\\\ 0.5e_2\\end{pmatrix}\\text{, }\\phi_1=\\begin{pmatrix}1\\\\0\\end{pmatrix}\n",
    "$\n",
    "\n",
    "Check\n",
    "$\n",
    "\\begin{pmatrix}0.5 & 0.0 \\\\ 0.0 & 4.5\\end{pmatrix}\\begin{pmatrix}1 \\\\ 0\\end{pmatrix}=\\begin{pmatrix}0.5\\\\ 0.0\\end{pmatrix}=0.5\\begin{pmatrix}1 \\\\ 0\\end{pmatrix}\n",
    "$\n",
    "\n",
    "Eigenvector $\\phi_2$ for $\\lambda_2=4.5$, , $\\phi_2=\\begin{pmatrix}e_1\\\\e_2\\end{pmatrix}$ \n",
    "$\n",
    "\\begin{pmatrix}0.5 & 0.0 \\\\ 0.0 & 4.5\\end{pmatrix}\\begin{pmatrix}e_1 \\\\ e_2\\end{pmatrix}=4.5\\begin{pmatrix}e_1 \\\\ e_2\\end{pmatrix}\\text{, }\n",
    "\\begin{pmatrix}0.5e_1+0.0e_2 \\\\ 0.0e_1+4.5e_2\\end{pmatrix}=\\begin{pmatrix}4.5e_1 \\\\ 4.5e_2\\end{pmatrix}\\text{, }\\phi_2=\\begin{pmatrix}0\\\\1\\end{pmatrix}\n",
    "$\n",
    "\n",
    "Check\n",
    "$\n",
    "\\begin{pmatrix}0.5 & 0.0 \\\\ 0.0 & 4.5\\end{pmatrix}\\begin{pmatrix}0 \\\\ 1\\end{pmatrix}=\\begin{pmatrix}0.0\\\\ 4.5\\end{pmatrix}=4.5\\begin{pmatrix}0 \\\\ 1\\end{pmatrix}\n",
    "$\n",
    "\n",
    "### Blue (2)\n",
    "\n",
    "The eigenvalues of a diagonal matrix are the diagonal elements. $\\lambda_1=4.5$, $\\lambda_2=0.5$.\n",
    "\n",
    "\n",
    "Eigenvector $\\phi_1$ for $\\lambda_1=4.5$, , $\\phi_1=\\begin{pmatrix}e_1\\\\e_2\\end{pmatrix}$ \n",
    "$\n",
    "\\begin{pmatrix}4.5 & 0.0 \\\\ 0.0 & 0.5\\end{pmatrix}\\begin{pmatrix}e_1 \\\\ e_2\\end{pmatrix}=4.5\\begin{pmatrix}e_1 \\\\ e_2\\end{pmatrix}\\text{, }\n",
    "\\begin{pmatrix}4.5e_1+0.0e_2 \\\\ 0.0e_1+0.5e_2\\end{pmatrix}=\\begin{pmatrix}4.5e_1 \\\\ 4.5e_2\\end{pmatrix}\\text{, }\\phi_1=\\begin{pmatrix}1\\\\0\\end{pmatrix}\n",
    "$\n",
    "\n",
    "Check\n",
    "$\n",
    "\\begin{pmatrix}4.5 & 0.0 \\\\ 0.0 & 0.5\\end{pmatrix}\\begin{pmatrix}1 \\\\ 0\\end{pmatrix}=\\begin{pmatrix}4.5\\\\ 0.0\\end{pmatrix}=4.5\\begin{pmatrix}1 \\\\ 0\\end{pmatrix}\n",
    "$\n",
    "\n",
    "Eigenvector $\\phi_2$ for $\\lambda_2=0.5$, , $\\phi_2=\\begin{pmatrix}e_1\\\\e_2\\end{pmatrix}$ \n",
    "$\n",
    "\\begin{pmatrix}4.5 & 0.0 \\\\ 0.0 & 0.5\\end{pmatrix}\\begin{pmatrix}e_1 \\\\ e_2\\end{pmatrix}=0.5\\begin{pmatrix}e_1 \\\\ e_2\\end{pmatrix}\\text{, }\n",
    "\\begin{pmatrix}4.5e_1+0.0e_2 \\\\ 0.0e_1+0.5e_2\\end{pmatrix}=\\begin{pmatrix}0.5e_1 \\\\ 0.5e_2\\end{pmatrix}\\text{, }\\phi_2=\\begin{pmatrix}0\\\\1\\end{pmatrix}\n",
    "$\n",
    "\n",
    "Check\n",
    "$\n",
    "\\begin{pmatrix}4.5 & 0.0 \\\\ 0.0 & 0.5\\end{pmatrix}\\begin{pmatrix}0 \\\\ 1\\end{pmatrix}=\\begin{pmatrix}0.0\\\\ 0.5\\end{pmatrix}=0.5\\begin{pmatrix}0 \\\\ 1\\end{pmatrix}\n",
    "$\n",
    "\n",
    "### Green (3)\n",
    "\n",
    "The eigenvalues of a diagonal matrix are the diagonal elements, and in this case have a multiplicity of 2. $\\lambda_1=2.0$, $\\lambda_2=2.0$.\n",
    "\n",
    "Eigenvector $\\phi_1$ for $\\lambda_1=2.0$, , $\\phi_1=\\begin{pmatrix}e_1\\\\e_2\\end{pmatrix}$ \n",
    "$\n",
    "\\begin{pmatrix}2.0 & 0.0 \\\\ 0.0 & 2.0\\end{pmatrix}\\begin{pmatrix}e_1 \\\\ e_2\\end{pmatrix}=2.0\\begin{pmatrix}e_1 \\\\ e_2\\end{pmatrix}\\text{, }\n",
    "\\begin{pmatrix}2.0e_1+0.0e_2 \\\\ 0.0e_1+2.0e_2\\end{pmatrix}=\\begin{pmatrix}2.0e_1 \\\\ 2.0e_2\\end{pmatrix}\\text{, }\\phi_1=\\begin{pmatrix}1\\\\0\\end{pmatrix}\\text{, }\\phi_2=\\begin{pmatrix}0 \\\\ 1\\end{pmatrix} \n",
    "$\n",
    "\n",
    "Check\n",
    "$\n",
    "\\begin{pmatrix}2.0 & 0.0 \\\\ 0.0 & 2.0\\end{pmatrix}\\begin{pmatrix}1 \\\\ 0\\end{pmatrix}=\\begin{pmatrix}2.0\\\\ 0.0\\end{pmatrix}=2.0\\begin{pmatrix}1 \\\\ 0\\end{pmatrix}\n",
    "\\begin{pmatrix}2.0 & 0.0 \\\\ 0.0 & 2.0\\end{pmatrix}\\begin{pmatrix}0 \\\\ 1\\end{pmatrix}=\\begin{pmatrix}0.0\\\\ 2.0\\end{pmatrix}=2.0\\begin{pmatrix}0 \\\\ 1\\end{pmatrix}\n",
    "$\n",
    "\n",
    "Note that the equations also yield the eigenvector solution $\\phi_3=\\begin{pmatrix}1 \\\\ 1\\end{pmatrix}$, which is a linear combination of $\\phi_1$ and $\\phi_2$, $\\phi_3=\\phi_1+\\phi_2$."
   ]
  },
  {
   "cell_type": "code",
   "execution_count": null,
   "metadata": {},
   "outputs": [],
   "source": []
  }
 ],
 "metadata": {
  "kernelspec": {
   "display_name": "Python 3",
   "language": "python",
   "name": "python3"
  },
  "language_info": {
   "codemirror_mode": {
    "name": "ipython",
    "version": 3
   },
   "file_extension": ".py",
   "mimetype": "text/x-python",
   "name": "python",
   "nbconvert_exporter": "python",
   "pygments_lexer": "ipython3",
   "version": "3.6.4"
  }
 },
 "nbformat": 4,
 "nbformat_minor": 1
}
